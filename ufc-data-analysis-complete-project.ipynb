{
 "cells": [
  {
   "cell_type": "code",
   "execution_count": 1,
   "id": "ac375f7a",
   "metadata": {
    "execution": {
     "iopub.execute_input": "2024-10-25T06:10:21.242470Z",
     "iopub.status.busy": "2024-10-25T06:10:21.241918Z",
     "iopub.status.idle": "2024-10-25T06:10:26.346614Z",
     "shell.execute_reply": "2024-10-25T06:10:26.344015Z"
    },
    "papermill": {
     "duration": 5.11746,
     "end_time": "2024-10-25T06:10:26.349412",
     "exception": true,
     "start_time": "2024-10-25T06:10:21.231952",
     "status": "failed"
    },
    "tags": []
   },
   "outputs": [
    {
     "data": {
      "text/html": [
       "        <script type=\"text/javascript\">\n",
       "        window.PlotlyConfig = {MathJaxConfig: 'local'};\n",
       "        if (window.MathJax && window.MathJax.Hub && window.MathJax.Hub.Config) {window.MathJax.Hub.Config({SVG: {font: \"STIX-Web\"}});}\n",
       "        if (typeof require !== 'undefined') {\n",
       "        require.undef(\"plotly\");\n",
       "        requirejs.config({\n",
       "            paths: {\n",
       "                'plotly': ['https://cdn.plot.ly/plotly-2.27.0.min']\n",
       "            }\n",
       "        });\n",
       "        require(['plotly'], function(Plotly) {\n",
       "            window._Plotly = Plotly;\n",
       "        });\n",
       "        }\n",
       "        </script>\n",
       "        "
      ]
     },
     "metadata": {},
     "output_type": "display_data"
    },
    {
     "data": {
      "text/html": [
       "        <script type=\"text/javascript\">\n",
       "        window.PlotlyConfig = {MathJaxConfig: 'local'};\n",
       "        if (window.MathJax && window.MathJax.Hub && window.MathJax.Hub.Config) {window.MathJax.Hub.Config({SVG: {font: \"STIX-Web\"}});}\n",
       "        if (typeof require !== 'undefined') {\n",
       "        require.undef(\"plotly\");\n",
       "        requirejs.config({\n",
       "            paths: {\n",
       "                'plotly': ['https://cdn.plot.ly/plotly-2.27.0.min']\n",
       "            }\n",
       "        });\n",
       "        require(['plotly'], function(Plotly) {\n",
       "            window._Plotly = Plotly;\n",
       "        });\n",
       "        }\n",
       "        </script>\n",
       "        "
      ]
     },
     "metadata": {},
     "output_type": "display_data"
    },
    {
     "name": "stderr",
     "output_type": "stream",
     "text": [
      "UsageError: Line magic function `%matplotlib.inline` not found.\n"
     ]
    }
   ],
   "source": [
    "import numpy as np\n",
    "import pandas as pd\n",
    "import seaborn as sns\n",
    "import matplotlib.pyplot as plt\n",
    "import warnings\n",
    "warnings.filterwarnings('ignore')\n",
    "from plotly.offline import download_plotlyjs, init_notebook_mode, iplot\n",
    "import cufflinks as cf\n",
    "init_notebook_mode(connected = True)\n",
    "cf.go_offline()\n",
    "%matplotlib.inline\n",
    "from plotly import tools\n",
    "import chart_studio.plotly as py\n",
    "import plotly.graph_objs as go\n",
    "import plotly.plotly.figure_factory as ff\n",
    "import plotly.offline as offline\n",
    "import squarify\n",
    "import random\n",
    "import operator"
   ]
  },
  {
   "cell_type": "code",
   "execution_count": null,
   "id": "b0063767",
   "metadata": {
    "execution": {
     "iopub.execute_input": "2024-10-25T06:01:10.472053Z",
     "iopub.status.busy": "2024-10-25T06:01:10.471546Z",
     "iopub.status.idle": "2024-10-25T06:01:10.703308Z",
     "shell.execute_reply": "2024-10-25T06:01:10.702153Z",
     "shell.execute_reply.started": "2024-10-25T06:01:10.472014Z"
    },
    "papermill": {
     "duration": null,
     "end_time": null,
     "exception": null,
     "start_time": null,
     "status": "pending"
    },
    "tags": []
   },
   "outputs": [],
   "source": [
    "df = pd.read_csv('/kaggle/input/ufc-dataset/data.csv')"
   ]
  },
  {
   "cell_type": "markdown",
   "id": "f2ec8b81",
   "metadata": {
    "papermill": {
     "duration": null,
     "end_time": null,
     "exception": null,
     "start_time": null,
     "status": "pending"
    },
    "tags": []
   },
   "source": [
    "# Explorartory Data Analysis"
   ]
  },
  {
   "cell_type": "code",
   "execution_count": null,
   "id": "34a86553",
   "metadata": {
    "execution": {
     "iopub.execute_input": "2024-10-25T06:01:12.671074Z",
     "iopub.status.busy": "2024-10-25T06:01:12.670575Z",
     "iopub.status.idle": "2024-10-25T06:01:12.716718Z",
     "shell.execute_reply": "2024-10-25T06:01:12.715467Z",
     "shell.execute_reply.started": "2024-10-25T06:01:12.671031Z"
    },
    "papermill": {
     "duration": null,
     "end_time": null,
     "exception": null,
     "start_time": null,
     "status": "pending"
    },
    "tags": []
   },
   "outputs": [],
   "source": [
    "df.head(2)"
   ]
  },
  {
   "cell_type": "code",
   "execution_count": null,
   "id": "5753d036",
   "metadata": {
    "execution": {
     "iopub.execute_input": "2024-10-25T06:01:14.304107Z",
     "iopub.status.busy": "2024-10-25T06:01:14.303710Z",
     "iopub.status.idle": "2024-10-25T06:01:14.469576Z",
     "shell.execute_reply": "2024-10-25T06:01:14.468119Z",
     "shell.execute_reply.started": "2024-10-25T06:01:14.304070Z"
    },
    "papermill": {
     "duration": null,
     "end_time": null,
     "exception": null,
     "start_time": null,
     "status": "pending"
    },
    "tags": []
   },
   "outputs": [],
   "source": [
    "df.info()"
   ]
  },
  {
   "cell_type": "code",
   "execution_count": null,
   "id": "06f95ec5",
   "metadata": {
    "execution": {
     "iopub.execute_input": "2024-10-25T06:01:21.680942Z",
     "iopub.status.busy": "2024-10-25T06:01:21.680563Z",
     "iopub.status.idle": "2024-10-25T06:01:23.260563Z",
     "shell.execute_reply": "2024-10-25T06:01:23.259453Z",
     "shell.execute_reply.started": "2024-10-25T06:01:21.680914Z"
    },
    "papermill": {
     "duration": null,
     "end_time": null,
     "exception": null,
     "start_time": null,
     "status": "pending"
    },
    "tags": []
   },
   "outputs": [],
   "source": [
    "df.describe()"
   ]
  },
  {
   "cell_type": "code",
   "execution_count": null,
   "id": "c1f26ea0",
   "metadata": {
    "execution": {
     "iopub.execute_input": "2024-10-25T06:01:24.948528Z",
     "iopub.status.busy": "2024-10-25T06:01:24.948022Z",
     "iopub.status.idle": "2024-10-25T06:01:24.957546Z",
     "shell.execute_reply": "2024-10-25T06:01:24.956266Z",
     "shell.execute_reply.started": "2024-10-25T06:01:24.948495Z"
    },
    "papermill": {
     "duration": null,
     "end_time": null,
     "exception": null,
     "start_time": null,
     "status": "pending"
    },
    "tags": []
   },
   "outputs": [],
   "source": [
    "print('Number of Records: ', df.shape[0])\n",
    "print('Number of Blue fighters: ', len(df.B_ID.unique()))\n",
    "print('Number of Red Fighters: ', len(df.R_ID.unique()))"
   ]
  },
  {
   "cell_type": "code",
   "execution_count": null,
   "id": "af68a082",
   "metadata": {
    "execution": {
     "iopub.execute_input": "2024-10-25T06:01:49.691271Z",
     "iopub.status.busy": "2024-10-25T06:01:49.690858Z",
     "iopub.status.idle": "2024-10-25T06:01:49.704197Z",
     "shell.execute_reply": "2024-10-25T06:01:49.702894Z",
     "shell.execute_reply.started": "2024-10-25T06:01:49.691239Z"
    },
    "papermill": {
     "duration": null,
     "end_time": null,
     "exception": null,
     "start_time": null,
     "status": "pending"
    },
    "tags": []
   },
   "outputs": [],
   "source": [
    "df.isnull().sum(axis = 0)"
   ]
  },
  {
   "cell_type": "code",
   "execution_count": null,
   "id": "ae135114",
   "metadata": {
    "execution": {
     "iopub.execute_input": "2024-10-25T06:01:59.975340Z",
     "iopub.status.busy": "2024-10-25T06:01:59.974822Z",
     "iopub.status.idle": "2024-10-25T06:01:59.986759Z",
     "shell.execute_reply": "2024-10-25T06:01:59.985421Z",
     "shell.execute_reply.started": "2024-10-25T06:01:59.975299Z"
    },
    "papermill": {
     "duration": null,
     "end_time": null,
     "exception": null,
     "start_time": null,
     "status": "pending"
    },
    "tags": []
   },
   "outputs": [],
   "source": [
    "df['B_Age'] = df['B_Age'].fillna(np.mean(df['B_Age']))\n",
    "df['B_Height'] = df['B_Height'].fillna(np.mean(df['B_Height']))"
   ]
  },
  {
   "cell_type": "code",
   "execution_count": null,
   "id": "f6647aa9",
   "metadata": {
    "execution": {
     "iopub.execute_input": "2024-10-25T06:02:06.221450Z",
     "iopub.status.busy": "2024-10-25T06:02:06.220947Z",
     "iopub.status.idle": "2024-10-25T06:02:06.234734Z",
     "shell.execute_reply": "2024-10-25T06:02:06.233437Z",
     "shell.execute_reply.started": "2024-10-25T06:02:06.221410Z"
    },
    "papermill": {
     "duration": null,
     "end_time": null,
     "exception": null,
     "start_time": null,
     "status": "pending"
    },
    "tags": []
   },
   "outputs": [],
   "source": [
    "df['R_Age'] = df['R_Age'].fillna(np.mean(df['R_Age']))\n",
    "df['R_Height'] = df['R_Height'].fillna(np.mean(df['R_Height']))"
   ]
  },
  {
   "cell_type": "code",
   "execution_count": null,
   "id": "2e1c5af0",
   "metadata": {
    "execution": {
     "iopub.execute_input": "2024-10-25T06:02:29.534135Z",
     "iopub.status.busy": "2024-10-25T06:02:29.533739Z",
     "iopub.status.idle": "2024-10-25T06:02:31.056750Z",
     "shell.execute_reply": "2024-10-25T06:02:31.054835Z",
     "shell.execute_reply.started": "2024-10-25T06:02:29.534103Z"
    },
    "papermill": {
     "duration": null,
     "end_time": null,
     "exception": null,
     "start_time": null,
     "status": "pending"
    },
    "tags": []
   },
   "outputs": [],
   "source": [
    "temp = df['winner'].value_counts()\n",
    "fig = {\n",
    "    'data':[\n",
    "        {\n",
    "            'values':temp.values, \n",
    "            'labels':temp.index,\n",
    "            'domain':{'x':[0, 1]},\n",
    "            'hole':.6,\n",
    "            'type':'pie'\n",
    "        },\n",
    "    ],\n",
    "    'layout':{\n",
    "        'title':'winner',\n",
    "        'annotations':[\n",
    "            {\n",
    "                'font':{\n",
    "                    'size':17 \n",
    "                },\n",
    "                'showarrow':False,\n",
    "                'text':'Whos winning more',\n",
    "                'x': 0.5, \n",
    "                'y':0.5, \n",
    "            }\n",
    "        ]\n",
    "    }\n",
    "}\n",
    "iplot(fig,filename='donut')"
   ]
  },
  {
   "cell_type": "code",
   "execution_count": null,
   "id": "b7ecf642",
   "metadata": {
    "execution": {
     "iopub.execute_input": "2024-10-25T06:02:56.268394Z",
     "iopub.status.busy": "2024-10-25T06:02:56.267939Z",
     "iopub.status.idle": "2024-10-25T06:02:57.210445Z",
     "shell.execute_reply": "2024-10-25T06:02:57.209102Z",
     "shell.execute_reply.started": "2024-10-25T06:02:56.268362Z"
    },
    "papermill": {
     "duration": null,
     "end_time": null,
     "exception": null,
     "start_time": null,
     "status": "pending"
    },
    "tags": []
   },
   "outputs": [],
   "source": [
    "fig, ax=plt.subplots(1, 2, figsize = (8, 4))\n",
    "sns.distplot(df.B_Age, ax=ax[0])\n",
    "sns.displot(df.R_Age, ax=ax[1])\n"
   ]
  },
  {
   "cell_type": "code",
   "execution_count": null,
   "id": "f590ba60",
   "metadata": {
    "execution": {
     "iopub.execute_input": "2024-10-25T06:03:24.976907Z",
     "iopub.status.busy": "2024-10-25T06:03:24.976490Z",
     "iopub.status.idle": "2024-10-25T06:03:25.005507Z",
     "shell.execute_reply": "2024-10-25T06:03:25.004147Z",
     "shell.execute_reply.started": "2024-10-25T06:03:24.976875Z"
    },
    "papermill": {
     "duration": null,
     "end_time": null,
     "exception": null,
     "start_time": null,
     "status": "pending"
    },
    "tags": []
   },
   "outputs": [],
   "source": [
    "BAge = df.groupby(['B_Age']).count()['winner']\n",
    "BlueAge=BAge.sort_values(axis = 0, ascending = False)\n",
    "BlueAge.head(10)"
   ]
  },
  {
   "cell_type": "code",
   "execution_count": null,
   "id": "c93d1dad",
   "metadata": {
    "execution": {
     "iopub.execute_input": "2024-10-25T06:03:26.357534Z",
     "iopub.status.busy": "2024-10-25T06:03:26.357117Z",
     "iopub.status.idle": "2024-10-25T06:03:26.380227Z",
     "shell.execute_reply": "2024-10-25T06:03:26.379082Z",
     "shell.execute_reply.started": "2024-10-25T06:03:26.357501Z"
    },
    "papermill": {
     "duration": null,
     "end_time": null,
     "exception": null,
     "start_time": null,
     "status": "pending"
    },
    "tags": []
   },
   "outputs": [],
   "source": [
    "RAge = df.groupby(['R_Age']).count()['winner']\n",
    "RedAge = RAge.sort_values(axis = 0, ascending = False)\n",
    "RedAge.head(10)"
   ]
  },
  {
   "cell_type": "code",
   "execution_count": null,
   "id": "16ab1f4d",
   "metadata": {
    "execution": {
     "iopub.execute_input": "2024-10-25T06:05:54.996556Z",
     "iopub.status.busy": "2024-10-25T06:05:54.996124Z",
     "iopub.status.idle": "2024-10-25T06:05:55.407468Z",
     "shell.execute_reply": "2024-10-25T06:05:55.406274Z",
     "shell.execute_reply.started": "2024-10-25T06:05:54.996524Z"
    },
    "papermill": {
     "duration": null,
     "end_time": null,
     "exception": null,
     "start_time": null,
     "status": "pending"
    },
    "tags": []
   },
   "outputs": [],
   "source": [
    "fig, ax = plt.subplots(1, 2, figsize = (15, 5))\n",
    "above35 = ['Above35' if  i>= 35 else 'Below35' for i in df.B_Age]\n",
    "df_B = pd.DataFrame({'B_Age': above35})\n",
    "sns.countplot(x = df_B.B_Age, ax=ax[0])\n",
    "plt.ylabel('Number of Fighters')\n",
    "plt.title('Age of Blue Fighters', color = 'blue', fontsize = 15)\n",
    "\n",
    "above35 = ['Above35 ' if i>=35 else 'Below35' for i in df.R_Age]\n",
    "df_R = pd.DataFrame({'R_Age':above35})\n",
    "sns.countplot(x = df_R.R_Age, ax=ax[1])\n",
    "plt.ylabel('Number of Fighters')\n",
    "plt.title('Age of Red Fighters', color = 'red', fontsize = 15)\n"
   ]
  },
  {
   "cell_type": "code",
   "execution_count": null,
   "id": "55464475",
   "metadata": {
    "execution": {
     "iopub.execute_input": "2024-10-25T06:06:01.127295Z",
     "iopub.status.busy": "2024-10-25T06:06:01.126845Z",
     "iopub.status.idle": "2024-10-25T06:06:01.147198Z",
     "shell.execute_reply": "2024-10-25T06:06:01.145856Z",
     "shell.execute_reply.started": "2024-10-25T06:06:01.127261Z"
    },
    "papermill": {
     "duration": null,
     "end_time": null,
     "exception": null,
     "start_time": null,
     "status": "pending"
    },
    "tags": []
   },
   "outputs": [],
   "source": [
    "df['Age Difference'] = df.B_Age - df.R_Age\n",
    "df[['Age Difference', 'winner']].groupby('winner').mean()"
   ]
  },
  {
   "cell_type": "code",
   "execution_count": null,
   "id": "b6655c85",
   "metadata": {
    "execution": {
     "iopub.execute_input": "2024-10-25T06:06:16.193681Z",
     "iopub.status.busy": "2024-10-25T06:06:16.193298Z",
     "iopub.status.idle": "2024-10-25T06:06:16.774373Z",
     "shell.execute_reply": "2024-10-25T06:06:16.773143Z",
     "shell.execute_reply.started": "2024-10-25T06:06:16.193652Z"
    },
    "papermill": {
     "duration": null,
     "end_time": null,
     "exception": null,
     "start_time": null,
     "status": "pending"
    },
    "tags": []
   },
   "outputs": [],
   "source": [
    "fig, ax = plt.subplots(1, 2, figsize = (15, 4))\n",
    "sns.distplot(df.B_Height, bins = 20, ax = ax[0]) #Blue Fighters Height\n",
    "sns.distplot(df.R_Height, bins = 20, ax = ax[1]) #Red Fighters Height\n",
    "plt.show()"
   ]
  },
  {
   "cell_type": "code",
   "execution_count": null,
   "id": "6aecba02",
   "metadata": {
    "execution": {
     "iopub.execute_input": "2024-10-25T06:06:23.364307Z",
     "iopub.status.busy": "2024-10-25T06:06:23.363793Z",
     "iopub.status.idle": "2024-10-25T06:06:23.676115Z",
     "shell.execute_reply": "2024-10-25T06:06:23.675004Z",
     "shell.execute_reply.started": "2024-10-25T06:06:23.364272Z"
    },
    "papermill": {
     "duration": null,
     "end_time": null,
     "exception": null,
     "start_time": null,
     "status": "pending"
    },
    "tags": []
   },
   "outputs": [],
   "source": [
    " fig, ax = plt.subplots(figsize = (15, 4))\n",
    "sns.kdeplot(df.B_Height, shade = True, color = 'indianred', label = 'Red')\n",
    "sns.kdeplot(df.R_Height, shade = True, label = 'Blue')\n",
    "plt.show()"
   ]
  },
  {
   "cell_type": "code",
   "execution_count": null,
   "id": "605c8498",
   "metadata": {
    "execution": {
     "iopub.execute_input": "2024-10-25T06:06:34.940187Z",
     "iopub.status.busy": "2024-10-25T06:06:34.939128Z",
     "iopub.status.idle": "2024-10-25T06:06:34.956673Z",
     "shell.execute_reply": "2024-10-25T06:06:34.955253Z",
     "shell.execute_reply.started": "2024-10-25T06:06:34.940121Z"
    },
    "papermill": {
     "duration": null,
     "end_time": null,
     "exception": null,
     "start_time": null,
     "status": "pending"
    },
    "tags": []
   },
   "outputs": [],
   "source": [
    "df['Height Difference'] = df.B_Height - df.R_Height\n",
    "df[['Height Difference', 'winner']].groupby('winner').mean()"
   ]
  },
  {
   "cell_type": "code",
   "execution_count": null,
   "id": "3c135741",
   "metadata": {
    "execution": {
     "iopub.execute_input": "2024-10-25T06:06:37.309556Z",
     "iopub.status.busy": "2024-10-25T06:06:37.309125Z",
     "iopub.status.idle": "2024-10-25T06:06:37.347510Z",
     "shell.execute_reply": "2024-10-25T06:06:37.346255Z",
     "shell.execute_reply.started": "2024-10-25T06:06:37.309523Z"
    },
    "papermill": {
     "duration": null,
     "end_time": null,
     "exception": null,
     "start_time": null,
     "status": "pending"
    },
    "tags": []
   },
   "outputs": [],
   "source": [
    "temp = df['winby'].value_counts()\n",
    "fig = {\n",
    "    'data':[\n",
    "        {\n",
    "            'values':temp.values,\n",
    "            'labels':temp.index,\n",
    "            'domain':{'x':[0, 1]},\n",
    "            'hole':.6,\n",
    "            'type':'pie'\n",
    "        },\n",
    "    ],\n",
    "    'layout':{\n",
    "        'title':'How the Fighters are winning?',\n",
    "        'annotations':[\n",
    "            {\n",
    "                'font':{\n",
    "                'size':20\n",
    "            },\n",
    "            'showarrow':False,\n",
    "            'text':'Win by',\n",
    "            'x':0.5,\n",
    "            'y':0.5}\n",
    "        ]\n",
    "    }\n",
    "}\n",
    "iplot(fig, filename = 'donut')"
   ]
  },
  {
   "cell_type": "code",
   "execution_count": null,
   "id": "e437438e",
   "metadata": {
    "execution": {
     "iopub.execute_input": "2024-10-25T06:06:45.254302Z",
     "iopub.status.busy": "2024-10-25T06:06:45.253795Z",
     "iopub.status.idle": "2024-10-25T06:06:46.228651Z",
     "shell.execute_reply": "2024-10-25T06:06:46.227276Z",
     "shell.execute_reply.started": "2024-10-25T06:06:45.254268Z"
    },
    "papermill": {
     "duration": null,
     "end_time": null,
     "exception": null,
     "start_time": null,
     "status": "pending"
    },
    "tags": []
   },
   "outputs": [],
   "source": [
    "g = sns.FacetGrid(df,col = 'winby')\n",
    "g.map(plt.hist,'R_Age', bins = 20)\n",
    "plt.show()"
   ]
  },
  {
   "cell_type": "code",
   "execution_count": null,
   "id": "aa0faae7",
   "metadata": {
    "papermill": {
     "duration": null,
     "end_time": null,
     "exception": null,
     "start_time": null,
     "status": "pending"
    },
    "tags": []
   },
   "outputs": [],
   "source": []
  }
 ],
 "metadata": {
  "kaggle": {
   "accelerator": "none",
   "dataSources": [
    {
     "datasetId": 5438239,
     "sourceId": 9023889,
     "sourceType": "datasetVersion"
    }
   ],
   "dockerImageVersionId": 30746,
   "isGpuEnabled": false,
   "isInternetEnabled": false,
   "language": "python",
   "sourceType": "notebook"
  },
  "kernelspec": {
   "display_name": "Python 3",
   "language": "python",
   "name": "python3"
  },
  "language_info": {
   "codemirror_mode": {
    "name": "ipython",
    "version": 3
   },
   "file_extension": ".py",
   "mimetype": "text/x-python",
   "name": "python",
   "nbconvert_exporter": "python",
   "pygments_lexer": "ipython3",
   "version": "3.10.13"
  },
  "papermill": {
   "default_parameters": {},
   "duration": 10.000731,
   "end_time": "2024-10-25T06:10:27.180276",
   "environment_variables": {},
   "exception": true,
   "input_path": "__notebook__.ipynb",
   "output_path": "__notebook__.ipynb",
   "parameters": {},
   "start_time": "2024-10-25T06:10:17.179545",
   "version": "2.5.0"
  }
 },
 "nbformat": 4,
 "nbformat_minor": 5
}
